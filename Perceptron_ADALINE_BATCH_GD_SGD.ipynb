{
 "cells": [
  {
   "cell_type": "code",
   "execution_count": 12,
   "id": "d1d8ac98",
   "metadata": {},
   "outputs": [],
   "source": [
    "import numpy as np\n",
    "\n",
    "class Perceptron(object):\n",
    "    \"\"\"\n",
    "    params:\n",
    "    \n",
    "    eta-learning rate\n",
    "    n_iter:int iterations through data set\n",
    "    random_state : int initial state for the generator of random numbers\n",
    "    \n",
    "    attributes:\n",
    "    \n",
    "    w_ - vector of weights\n",
    "    \n",
    "    errors_ -vector of errors /incorrect classifications\n",
    "    \n",
    "    \n",
    "    \"\"\"\n",
    "    \n",
    "    def __init__(self, eta=0.01, n_iter=50, random_state =1):\n",
    "        self.eta = eta\n",
    "        self.n_iter = n_iter\n",
    "        self.random_state = random_state\n",
    "        \n",
    "            \n",
    "    def fit(self, X, y):\n",
    "        \"fits training data\"\n",
    "        \n",
    "        \"\"\"\n",
    "        X - matrix of features and training samples shape =[n_examples, n_features]\n",
    "        \n",
    "        y - column vector of target values shape =[n_examples,1]\n",
    "        \n",
    "        returns self: object\n",
    "        \n",
    "        \"\"\"\n",
    "        \n",
    "        rgen = np.random.RandomState(self.random_state)\n",
    "        self.w_ = rgen.normal(loc=0.0, scale=0.01, size = 1 +X.shape[1])\n",
    "        self.errors_ = []\n",
    "        \n",
    "        for _ in range(self.n_iter):\n",
    "            errors = 0\n",
    "            for xi, target in zip(X,y):\n",
    "                update = self.eta * (target - self.predict(xi))\n",
    "                self.w_[1:] += update * xi\n",
    "                self.w_[0] += update\n",
    "                errors += int( update != 0.0)\n",
    "            self.errors_.append(errors)    \n",
    "        \n",
    "        return self\n",
    "    \n",
    "    \n",
    "    def net_input(self, X):\n",
    "        \"Compute net input\"\n",
    "        return X @ self.w_[1:] + self.w_[0]\n",
    "    \n",
    "    def predict(self, X):\n",
    "        \"return a label after each iteration\"\n",
    "        return np.where(self.net_input(X) >= 0.0, 1, -1)"
   ]
  },
  {
   "cell_type": "markdown",
   "id": "63c90757",
   "metadata": {},
   "source": [
    "Download the data set\n"
   ]
  },
  {
   "cell_type": "code",
   "execution_count": 7,
   "id": "372c8564",
   "metadata": {},
   "outputs": [
    {
     "name": "stdout",
     "output_type": "stream",
     "text": [
      "URL: https://archive.ics.uci.edu/ml/machine-learning-databases/iris/iris.data\n"
     ]
    },
    {
     "data": {
      "text/html": [
       "<div>\n",
       "<style scoped>\n",
       "    .dataframe tbody tr th:only-of-type {\n",
       "        vertical-align: middle;\n",
       "    }\n",
       "\n",
       "    .dataframe tbody tr th {\n",
       "        vertical-align: top;\n",
       "    }\n",
       "\n",
       "    .dataframe thead th {\n",
       "        text-align: right;\n",
       "    }\n",
       "</style>\n",
       "<table border=\"1\" class=\"dataframe\">\n",
       "  <thead>\n",
       "    <tr style=\"text-align: right;\">\n",
       "      <th></th>\n",
       "      <th>0</th>\n",
       "      <th>1</th>\n",
       "      <th>2</th>\n",
       "      <th>3</th>\n",
       "      <th>4</th>\n",
       "    </tr>\n",
       "  </thead>\n",
       "  <tbody>\n",
       "    <tr>\n",
       "      <th>145</th>\n",
       "      <td>6.7</td>\n",
       "      <td>3.0</td>\n",
       "      <td>5.2</td>\n",
       "      <td>2.3</td>\n",
       "      <td>Iris-virginica</td>\n",
       "    </tr>\n",
       "    <tr>\n",
       "      <th>146</th>\n",
       "      <td>6.3</td>\n",
       "      <td>2.5</td>\n",
       "      <td>5.0</td>\n",
       "      <td>1.9</td>\n",
       "      <td>Iris-virginica</td>\n",
       "    </tr>\n",
       "    <tr>\n",
       "      <th>147</th>\n",
       "      <td>6.5</td>\n",
       "      <td>3.0</td>\n",
       "      <td>5.2</td>\n",
       "      <td>2.0</td>\n",
       "      <td>Iris-virginica</td>\n",
       "    </tr>\n",
       "    <tr>\n",
       "      <th>148</th>\n",
       "      <td>6.2</td>\n",
       "      <td>3.4</td>\n",
       "      <td>5.4</td>\n",
       "      <td>2.3</td>\n",
       "      <td>Iris-virginica</td>\n",
       "    </tr>\n",
       "    <tr>\n",
       "      <th>149</th>\n",
       "      <td>5.9</td>\n",
       "      <td>3.0</td>\n",
       "      <td>5.1</td>\n",
       "      <td>1.8</td>\n",
       "      <td>Iris-virginica</td>\n",
       "    </tr>\n",
       "  </tbody>\n",
       "</table>\n",
       "</div>"
      ],
      "text/plain": [
       "       0    1    2    3               4\n",
       "145  6.7  3.0  5.2  2.3  Iris-virginica\n",
       "146  6.3  2.5  5.0  1.9  Iris-virginica\n",
       "147  6.5  3.0  5.2  2.0  Iris-virginica\n",
       "148  6.2  3.4  5.4  2.3  Iris-virginica\n",
       "149  5.9  3.0  5.1  1.8  Iris-virginica"
      ]
     },
     "execution_count": 7,
     "metadata": {},
     "output_type": "execute_result"
    }
   ],
   "source": [
    "import os \n",
    "import pandas as pd\n",
    "\n",
    "s = os.path.join('https://archive.ics.uci.edu/ml/machine-learning-databases/iris/iris.data')\n",
    "print('URL:', s)\n",
    "\n",
    "\n",
    "df = pd.read_csv(s, header=None, encoding='utf-8')\n",
    "df.tail()"
   ]
  },
  {
   "cell_type": "markdown",
   "id": "0e04e9a6",
   "metadata": {},
   "source": [
    "Now extract data samples for the algortihm\n"
   ]
  },
  {
   "cell_type": "code",
   "execution_count": 46,
   "id": "e2010145",
   "metadata": {
    "scrolled": true
   },
   "outputs": [
    {
     "data": {
      "image/png": "[encoded data removed]",
      "text/plain": [
       "<Figure size 432x288 with 1 Axes>"
      ]
     },
     "metadata": {
      "needs_background": "light"
     },
     "output_type": "display_data"
    }
   ],
   "source": [
    "import matplotlib.pyplot as plt\n",
    "import numpy as np\n",
    "\n",
    "# pick iris setosa and iris versicolor\n",
    "y = df.iloc[0:100,4].values\n",
    "y = np.where( y =='Iris-setosa', -1, 1)\n",
    "\n",
    "# extract petal and sepal length\n",
    "X = df.iloc[0:100,[0, 2]].values\n",
    "\n",
    "# plot\n",
    "plt.scatter(X[:50, 0], X[:50, 1],\n",
    "           color='red', marker='o', label='setosa')\n",
    "plt.scatter(X[50:100, 0], X[50:100, 1], color='b', marker='x', label='versicolor' )\n",
    "plt.xlabel('sepal length [cm]')\n",
    "plt.ylabel('petal length [cm]')\n",
    "plt.legend(loc='upper left')\n",
    "plt.show()"
   ]
  },
  {
   "cell_type": "markdown",
   "id": "a9cf10ca",
   "metadata": {},
   "source": [
    "Train the perceptron\n"
   ]
  },
  {
   "cell_type": "code",
   "execution_count": 14,
   "id": "9a2f17ff",
   "metadata": {},
   "outputs": [
    {
     "data": {
      "image/png": "[encoded data removed]",
      "text/plain": [
       "<Figure size 432x288 with 1 Axes>"
      ]
     },
     "metadata": {
      "needs_background": "light"
     },
     "output_type": "display_data"
    }
   ],
   "source": [
    "ppn = Perceptron(eta = 0.1, n_iter = 10)\n",
    "ppn.fit(X, y)\n",
    "\n",
    "plt.plot(range(1, len(ppn.errors_)+1),\n",
    "        ppn.errors_, marker='o')\n",
    "plt.xlabel('Epochs')\n",
    "plt.ylabel('N updates')\n",
    "plt.show()"
   ]
  },
  {
   "cell_type": "markdown",
   "id": "b76bdfdc",
   "metadata": {},
   "source": [
    "Perceptron converges after 6 epochs. Now we plot the margin of classification\n",
    "\n"
   ]
  },
  {
   "cell_type": "code",
   "execution_count": 19,
   "id": "52ab4225",
   "metadata": {},
   "outputs": [],
   "source": [
    "from matplotlib.colors import ListedColormap\n",
    "def plot_decision_regions(X, y, classifier, resolution = 0.02):\n",
    "    markers = ('s', 'x', 'o', '4', '4')\n",
    "    colors = ('r', 'b', 'lightgreen', 'gray', 'cyan')\n",
    "    cmap = ListedColormap(colors[:len(np.unique(y))])\n",
    "    \n",
    "    # show the decision region\n",
    "    x1_min, x1_max = X[:, 0].min() - 1, X[:,0].max() + 1\n",
    "    x2_min, x2_max = X[:, 1].min() - 1, X[:,1].max() + 1\n",
    "    xx1, xx2 = np.meshgrid(np.arange(x1_min, x1_max, resolution),\n",
    "                          np.arange(x2_min, x2_max, resolution))\n",
    "    \n",
    "    Z = classifier.predict(np.array([xx1.ravel(), xx2.ravel()]).T)\n",
    "    Z = Z.reshape(xx1.shape)\n",
    "    plt.contourf(xx1, xx2, Z, alpha=0.3, cmap=cmap)\n",
    "    plt.xlim(xx1.min(), xx1.max())\n",
    "    plt.ylim(xx2.min(), xx2.max())\n",
    "    \n",
    "    # display by class\n",
    "    for idx, cl in enumerate(np.unique(y)):\n",
    "        plt.scatter(x=X[ y == cl, 0],\n",
    "                    y=X[y == cl, 1],\n",
    "                   alpha=0.8,\n",
    "                   c=colors[idx],\n",
    "                   marker=markers[idx],\n",
    "                   label =cl)"
   ]
  },
  {
   "cell_type": "code",
   "execution_count": 23,
   "id": "8e25981d",
   "metadata": {
    "scrolled": true
   },
   "outputs": [
    {
     "data": {
      "image/png": "[encoded data removed]",
      "text/plain": [
       "<Figure size 432x288 with 1 Axes>"
      ]
     },
     "metadata": {
      "needs_background": "light"
     },
     "output_type": "display_data"
    }
   ],
   "source": [
    "plot_decision_regions(X, y, classifier=ppn)\n",
    "plt.xlabel('sepal length')\n",
    "plt.ylabel('petal length')\n",
    "plt.legend(loc='upper left')\n",
    "plt.show()"
   ]
  },
  {
   "cell_type": "markdown",
   "id": "a5d5bac0",
   "metadata": {},
   "source": [
    "# ADALINE \n"
   ]
  },
  {
   "cell_type": "code",
   "execution_count": 44,
   "id": "57a32124",
   "metadata": {},
   "outputs": [],
   "source": [
    "class AdalineGD(object):\n",
    "    \"\"\"  hyperparams:\n",
    "    \n",
    "    eta-learning rate\n",
    "    n_iter:int iterations through data set\n",
    "    \n",
    "    \n",
    "    \n",
    "    random_state : int initial state for the generator of random numbers\n",
    "    \n",
    "    attributes:\n",
    "    \n",
    "    w_ - vector of weights\n",
    "    \n",
    "    errors_ -vector of errors /incorrect classifications\"\"\"\n",
    "    \n",
    "    \n",
    "    \n",
    "    def __init__(self, eta=0.01, n_iter=50, random_state =1):\n",
    "        self.eta = eta\n",
    "        self.n_iter = n_iter\n",
    "        self.random_state = random_state\n",
    "            \n",
    "            \n",
    "    def fit(self, X, y):\n",
    "        \"fits training data\"\n",
    "        \n",
    "        \"\"\"\n",
    "        X - matrix of features and training samples shape =[n_examples, n_features]\n",
    "        \n",
    "        y - column vector of target values shape =[n_examples,1]\n",
    "        \n",
    "        returns self: object\n",
    "        \n",
    "        \"\"\"\n",
    "        \n",
    "        rgen = np.random.RandomState(self.random_state)\n",
    "        self.w_ = rgen.normal(loc=0.0, scale=0.01, size = 1 +X.shape[1])\n",
    "        self.cost_ = []\n",
    "        \n",
    "        for i in range(self.n_iter):\n",
    "            net_input = self.net_input(X)\n",
    "            output = self.activation(net_input)\n",
    "            errors = (y - output)\n",
    "            self.w_[1:] += self.eta * X.T.dot(errors)\n",
    "            self.w_[0] += self.eta * errors.sum()\n",
    "            cost = (errors**2).sum() / 2.0\n",
    "            self.cost_.append(cost)    \n",
    "        \n",
    "        return self \n",
    "    \n",
    "    def net_input(self, X):\n",
    "        \"Compute net input\"\n",
    "        return X @ self.w_[1:] + self.w_[0]\n",
    "    \n",
    "    def activation(self, X):\n",
    "        return X\n",
    "    \n",
    "    def predict(self, X):\n",
    "        \"return a label after each iteration\"\n",
    "        return np.where(self.activation(self.net_input(X)) >= 0.0, 1, -1)\n",
    "    \n",
    "    \n",
    "    "
   ]
  },
  {
   "cell_type": "markdown",
   "id": "d995b8ac",
   "metadata": {},
   "source": [
    "# Perceptron's hyperparameters\n",
    "$\\eta$ -learning rate \n",
    "\n",
    "\n",
    "$n_{iter/epoch}$ - number of epochs"
   ]
  },
  {
   "cell_type": "code",
   "execution_count": 49,
   "id": "9790648c",
   "metadata": {},
   "outputs": [
    {
     "data": {
      "image/png": "[encoded data removed]",
      "text/plain": [
       "<Figure size 720x288 with 2 Axes>"
      ]
     },
     "metadata": {
      "needs_background": "light"
     },
     "output_type": "display_data"
    }
   ],
   "source": [
    "fig, ax = plt.subplots(nrows=1, ncols=2, figsize=(10,4))\n",
    "ada1 = AdalineGD(n_iter=10, eta=0.01).fit(X,y)\n",
    "ax[0].plot(range(1, len(ada1.cost_)+1),\n",
    "         np.log10(ada1.cost_), marker='o')\n",
    "ax[0].set_xlabel(\"Epochs\")\n",
    "ax[0].set_ylabel(\"log(SSE)\")\n",
    "ax[0].set_title(' Adaline $\\eta = 0.01$')\n",
    "\n",
    "\n",
    "ada2 = AdalineGD(n_iter=10, eta=0.0001).fit(X,y)\n",
    "ax[1].plot(range(1, len(ada2.cost_)+1),\n",
    "        np.log10(ada2.cost_), marker='o')\n",
    "ax[1].set_xlabel(\"Epochs\")\n",
    "ax[1].set_ylabel(\"log(SSE)\")\n",
    "ax[1].set_title(' Adaline $\\eta = 0.001$')\n",
    "\n",
    "plt.show()\n"
   ]
  },
  {
   "cell_type": "markdown",
   "id": "361750da",
   "metadata": {},
   "source": [
    "# Standardization"
   ]
  },
  {
   "cell_type": "code",
   "execution_count": 58,
   "id": "1fa754b3",
   "metadata": {},
   "outputs": [],
   "source": [
    "X_std = np.copy(X)\n",
    "X_std[:,0] = (X[:,0] - X[:,0].mean())/X[:,0].std()\n",
    "X_std[:,1] = (X[:,1] - X[:,1].mean())/X[:,1].std()"
   ]
  },
  {
   "cell_type": "code",
   "execution_count": 59,
   "id": "81c4e1ac",
   "metadata": {},
   "outputs": [
    {
     "data": {
      "image/png": "[encoded data removed]",
      "text/plain": [
       "<Figure size 432x288 with 1 Axes>"
      ]
     },
     "metadata": {
      "needs_background": "light"
     },
     "output_type": "display_data"
    }
   ],
   "source": [
    "ada_stdgd = AdalineGD(n_iter=15, eta=0.01).fit(X_std,y)\n",
    "\n",
    "plot_decision_regions(X_std, y, classifier=ada_stdgd)\n",
    "plt.xlabel('sepal length standardized')\n",
    "plt.ylabel('petal length standardized')\n",
    "plt.legend(loc='upper left')\n",
    "plt.show()"
   ]
  },
  {
   "cell_type": "code",
   "execution_count": 60,
   "id": "f8517ac0",
   "metadata": {},
   "outputs": [
    {
     "data": {
      "image/png": "[encoded data removed]",
      "text/plain": [
       "<Figure size 432x288 with 1 Axes>"
      ]
     },
     "metadata": {
      "needs_background": "light"
     },
     "output_type": "display_data"
    }
   ],
   "source": [
    "plt.plot(range(1, len(ada_stdgd.cost_)+1), \n",
    "        ada_stdgd.cost_, marker='o')\n",
    "plt.xlabel('Epochs')\n",
    "plt.ylabel('SSE')\n",
    "plt.tight_layout()\n",
    "\n",
    "plt.show()\n"
   ]
  },
  {
   "cell_type": "markdown",
   "id": "958a404a",
   "metadata": {},
   "source": [
    "# Adaline SGD\n"
   ]
  },
  {
   "cell_type": "code",
   "execution_count": 68,
   "id": "ec2408f4",
   "metadata": {},
   "outputs": [],
   "source": [
    "class AdalineSGD(object):\n",
    "    \"\"\"  hyperparams:\n",
    "    \n",
    "    eta-learning rate\n",
    "    n_iter:int iterations through data set\n",
    "    \n",
    "    shuffle:bool -shuffles training data\n",
    "    \n",
    "    random_state : int initial state for the generator of random numbers\n",
    "    \n",
    "    attributes:\n",
    "    \n",
    "    w_ - vector of weights\n",
    "    \n",
    "    errors_ -vector of errors /incorrect classifications\"\"\"\n",
    "    \n",
    "    \n",
    "    \n",
    "    def __init__(self, eta=0.01, n_iter=50, random_state = None, shuffle=True):\n",
    "        self.eta = eta\n",
    "        self.n_iter = n_iter\n",
    "        self.random_state = random_state\n",
    "        self.shuffle = shuffle\n",
    "        self.w_initialized = False\n",
    "            \n",
    "            \n",
    "    def fit(self, X, y):\n",
    "        \"fits training data\"\n",
    "        \n",
    "        \"\"\"\n",
    "        X - matrix of features and training samples shape =[n_examples, n_features]\n",
    "        \n",
    "        y - column vector of target values shape =[n_examples,1]\n",
    "        \n",
    "        returns self: object\n",
    "        \n",
    "        \"\"\"\n",
    "        \n",
    "        self._initialize_weights(X.shape[1])\n",
    "        self.cost_ = []\n",
    "       \n",
    "        \n",
    "        \n",
    "        for i in range(self.n_iter):\n",
    "            \n",
    "            if self.shuffle:\n",
    "                X, y = self._shuffle(X, y)\n",
    "            cost =[]    \n",
    "            for xi, target in zip(X,y):\n",
    "                cost.append(self._update_weigths(xi,target))\n",
    "            avg_cost = sum(cost) / len(y)\n",
    "            self.cost_.append(avg_cost)    \n",
    "        \n",
    "        return self\n",
    "    \n",
    "    def partial_fit(self, X, y):\n",
    "        if not self.w_initialized:\n",
    "            self._initialize_weights(X.shape[1])\n",
    "        if y.ravel().shape[0]>1:\n",
    "            for xi, target in zip(X, y):\n",
    "                self._update_weigths(xi, target)\n",
    "        else:\n",
    "            self._update_weigths(X,y)\n",
    "            \n",
    "        return self            \n",
    "                \n",
    "    \n",
    "    def _shuffle(self, X, y):\n",
    "        r = self.rgen.permutation(len(y))\n",
    "        return X[r], y[r]\n",
    "    \n",
    "    def _initialize_weights(self, m):\n",
    "        self.rgen = np.random.RandomState(self.random_state)\n",
    "        self.w_ = self.rgen.normal(loc=0.0, scale =0.01, size = 1+m)\n",
    "        self.w_initialized = True\n",
    "    \n",
    "    def _update_weigths(self, xi, target):\n",
    "        output = self.activation(self.net_input(xi))\n",
    "        error = (target - output)\n",
    "        self.w_[1:] += self.eta * xi.dot(error)\n",
    "        self.w_[0] += self.eta * error\n",
    "        cost = 0.5 * error**2\n",
    "        return cost\n",
    "    \n",
    "    def net_input(self, X):\n",
    "        \"Compute net input\"\n",
    "        return X @ self.w_[1:] + self.w_[0]\n",
    "    \n",
    "    def activation(self, X):\n",
    "        return X\n",
    "    \n",
    "    def predict(self, X):\n",
    "        \"return a label after each iteration\"\n",
    "        return np.where(self.activation(self.net_input(X)) >= 0.0, 1, -1)\n",
    "    \n",
    "    \n",
    "    "
   ]
  },
  {
   "cell_type": "code",
   "execution_count": 69,
   "id": "eabaa6cc",
   "metadata": {},
   "outputs": [
    {
     "data": {
      "image/png": "[encoded data removed]",
      "text/plain": [
       "<Figure size 432x288 with 1 Axes>"
      ]
     },
     "metadata": {
      "needs_background": "light"
     },
     "output_type": "display_data"
    }
   ],
   "source": [
    "ada_SGD = AdalineSGD(n_iter=15, eta=0.01,random_state=1).fit(X_std,y)\n",
    "\n",
    "plot_decision_regions(X_std, y, classifier=ada_SGD)\n",
    "plt.xlabel('sepal length standardized')\n",
    "plt.ylabel('petal length standardized')\n",
    "plt.legend(loc='upper left')\n",
    "plt.show()"
   ]
  },
  {
   "cell_type": "code",
   "execution_count": 70,
   "id": "3a2a9f27",
   "metadata": {},
   "outputs": [
    {
     "data": {
      "image/png": "[encoded data removed]",
      "text/plain": [
       "<Figure size 432x288 with 1 Axes>"
      ]
     },
     "metadata": {
      "needs_background": "light"
     },
     "output_type": "display_data"
    }
   ],
   "source": [
    "plt.plot(range(1, len(ada_SGD.cost_)+1), \n",
    "        ada_SGD.cost_, marker='o')\n",
    "plt.xlabel('Epochs')\n",
    "plt.ylabel('SSE')\n",
    "plt.tight_layout()\n",
    "\n",
    "plt.show()\n"
   ]
  }
 ],
 "metadata": {
  "kernelspec": {
   "display_name": "Python 3 (ipykernel)",
   "language": "python",
   "name": "python3"
  },
  "language_info": {
   "codemirror_mode": {
    "name": "ipython",
    "version": 3
   },
   "file_extension": ".py",
   "mimetype": "text/x-python",
   "name": "python",
   "nbconvert_exporter": "python",
   "pygments_lexer": "ipython3",
   "version": "3.10.4"
  }
 },
 "nbformat": 4,
 "nbformat_minor": 5
}
