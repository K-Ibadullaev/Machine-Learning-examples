{
 "cells": [
  {
   "cell_type": "markdown",
   "id": "13231231",
   "metadata": {},
   "source": [
    "# Pipeline"
   ]
  },
  {
   "cell_type": "markdown",
   "id": "344a70ea",
   "metadata": {},
   "source": [
    "### upload data set"
   ]
  },
  {
   "cell_type": "code",
   "execution_count": 3,
   "id": "5d63126b",
   "metadata": {},
   "outputs": [
    {
     "data": {
      "text/html": [
       "<div>\n",
       "<style scoped>\n",
       "    .dataframe tbody tr th:only-of-type {\n",
       "        vertical-align: middle;\n",
       "    }\n",
       "\n",
       "    .dataframe tbody tr th {\n",
       "        vertical-align: top;\n",
       "    }\n",
       "\n",
       "    .dataframe thead th {\n",
       "        text-align: right;\n",
       "    }\n",
       "</style>\n",
       "<table border=\"1\" class=\"dataframe\">\n",
       "  <thead>\n",
       "    <tr style=\"text-align: right;\">\n",
       "      <th></th>\n",
       "      <th>0</th>\n",
       "      <th>1</th>\n",
       "      <th>2</th>\n",
       "      <th>3</th>\n",
       "      <th>4</th>\n",
       "      <th>5</th>\n",
       "      <th>6</th>\n",
       "      <th>7</th>\n",
       "      <th>8</th>\n",
       "      <th>9</th>\n",
       "      <th>...</th>\n",
       "      <th>22</th>\n",
       "      <th>23</th>\n",
       "      <th>24</th>\n",
       "      <th>25</th>\n",
       "      <th>26</th>\n",
       "      <th>27</th>\n",
       "      <th>28</th>\n",
       "      <th>29</th>\n",
       "      <th>30</th>\n",
       "      <th>31</th>\n",
       "    </tr>\n",
       "  </thead>\n",
       "  <tbody>\n",
       "    <tr>\n",
       "      <th>0</th>\n",
       "      <td>842302</td>\n",
       "      <td>M</td>\n",
       "      <td>17.99</td>\n",
       "      <td>10.38</td>\n",
       "      <td>122.80</td>\n",
       "      <td>1001.0</td>\n",
       "      <td>0.11840</td>\n",
       "      <td>0.27760</td>\n",
       "      <td>0.3001</td>\n",
       "      <td>0.14710</td>\n",
       "      <td>...</td>\n",
       "      <td>25.38</td>\n",
       "      <td>17.33</td>\n",
       "      <td>184.60</td>\n",
       "      <td>2019.0</td>\n",
       "      <td>0.1622</td>\n",
       "      <td>0.6656</td>\n",
       "      <td>0.7119</td>\n",
       "      <td>0.2654</td>\n",
       "      <td>0.4601</td>\n",
       "      <td>0.11890</td>\n",
       "    </tr>\n",
       "    <tr>\n",
       "      <th>1</th>\n",
       "      <td>842517</td>\n",
       "      <td>M</td>\n",
       "      <td>20.57</td>\n",
       "      <td>17.77</td>\n",
       "      <td>132.90</td>\n",
       "      <td>1326.0</td>\n",
       "      <td>0.08474</td>\n",
       "      <td>0.07864</td>\n",
       "      <td>0.0869</td>\n",
       "      <td>0.07017</td>\n",
       "      <td>...</td>\n",
       "      <td>24.99</td>\n",
       "      <td>23.41</td>\n",
       "      <td>158.80</td>\n",
       "      <td>1956.0</td>\n",
       "      <td>0.1238</td>\n",
       "      <td>0.1866</td>\n",
       "      <td>0.2416</td>\n",
       "      <td>0.1860</td>\n",
       "      <td>0.2750</td>\n",
       "      <td>0.08902</td>\n",
       "    </tr>\n",
       "    <tr>\n",
       "      <th>2</th>\n",
       "      <td>84300903</td>\n",
       "      <td>M</td>\n",
       "      <td>19.69</td>\n",
       "      <td>21.25</td>\n",
       "      <td>130.00</td>\n",
       "      <td>1203.0</td>\n",
       "      <td>0.10960</td>\n",
       "      <td>0.15990</td>\n",
       "      <td>0.1974</td>\n",
       "      <td>0.12790</td>\n",
       "      <td>...</td>\n",
       "      <td>23.57</td>\n",
       "      <td>25.53</td>\n",
       "      <td>152.50</td>\n",
       "      <td>1709.0</td>\n",
       "      <td>0.1444</td>\n",
       "      <td>0.4245</td>\n",
       "      <td>0.4504</td>\n",
       "      <td>0.2430</td>\n",
       "      <td>0.3613</td>\n",
       "      <td>0.08758</td>\n",
       "    </tr>\n",
       "    <tr>\n",
       "      <th>3</th>\n",
       "      <td>84348301</td>\n",
       "      <td>M</td>\n",
       "      <td>11.42</td>\n",
       "      <td>20.38</td>\n",
       "      <td>77.58</td>\n",
       "      <td>386.1</td>\n",
       "      <td>0.14250</td>\n",
       "      <td>0.28390</td>\n",
       "      <td>0.2414</td>\n",
       "      <td>0.10520</td>\n",
       "      <td>...</td>\n",
       "      <td>14.91</td>\n",
       "      <td>26.50</td>\n",
       "      <td>98.87</td>\n",
       "      <td>567.7</td>\n",
       "      <td>0.2098</td>\n",
       "      <td>0.8663</td>\n",
       "      <td>0.6869</td>\n",
       "      <td>0.2575</td>\n",
       "      <td>0.6638</td>\n",
       "      <td>0.17300</td>\n",
       "    </tr>\n",
       "    <tr>\n",
       "      <th>4</th>\n",
       "      <td>84358402</td>\n",
       "      <td>M</td>\n",
       "      <td>20.29</td>\n",
       "      <td>14.34</td>\n",
       "      <td>135.10</td>\n",
       "      <td>1297.0</td>\n",
       "      <td>0.10030</td>\n",
       "      <td>0.13280</td>\n",
       "      <td>0.1980</td>\n",
       "      <td>0.10430</td>\n",
       "      <td>...</td>\n",
       "      <td>22.54</td>\n",
       "      <td>16.67</td>\n",
       "      <td>152.20</td>\n",
       "      <td>1575.0</td>\n",
       "      <td>0.1374</td>\n",
       "      <td>0.2050</td>\n",
       "      <td>0.4000</td>\n",
       "      <td>0.1625</td>\n",
       "      <td>0.2364</td>\n",
       "      <td>0.07678</td>\n",
       "    </tr>\n",
       "  </tbody>\n",
       "</table>\n",
       "<p>5 rows × 32 columns</p>\n",
       "</div>"
      ],
      "text/plain": [
       "         0  1      2      3       4       5        6        7       8   \\\n",
       "0    842302  M  17.99  10.38  122.80  1001.0  0.11840  0.27760  0.3001   \n",
       "1    842517  M  20.57  17.77  132.90  1326.0  0.08474  0.07864  0.0869   \n",
       "2  84300903  M  19.69  21.25  130.00  1203.0  0.10960  0.15990  0.1974   \n",
       "3  84348301  M  11.42  20.38   77.58   386.1  0.14250  0.28390  0.2414   \n",
       "4  84358402  M  20.29  14.34  135.10  1297.0  0.10030  0.13280  0.1980   \n",
       "\n",
       "        9   ...     22     23      24      25      26      27      28      29  \\\n",
       "0  0.14710  ...  25.38  17.33  184.60  2019.0  0.1622  0.6656  0.7119  0.2654   \n",
       "1  0.07017  ...  24.99  23.41  158.80  1956.0  0.1238  0.1866  0.2416  0.1860   \n",
       "2  0.12790  ...  23.57  25.53  152.50  1709.0  0.1444  0.4245  0.4504  0.2430   \n",
       "3  0.10520  ...  14.91  26.50   98.87   567.7  0.2098  0.8663  0.6869  0.2575   \n",
       "4  0.10430  ...  22.54  16.67  152.20  1575.0  0.1374  0.2050  0.4000  0.1625   \n",
       "\n",
       "       30       31  \n",
       "0  0.4601  0.11890  \n",
       "1  0.2750  0.08902  \n",
       "2  0.3613  0.08758  \n",
       "3  0.6638  0.17300  \n",
       "4  0.2364  0.07678  \n",
       "\n",
       "[5 rows x 32 columns]"
      ]
     },
     "execution_count": 3,
     "metadata": {},
     "output_type": "execute_result"
    }
   ],
   "source": [
    "import pandas as pd\n",
    "\n",
    "df = pd.read_csv('https://archive.ics.uci.edu/ml/machine-learning-databases/breast-cancer-wisconsin/wdbc.data',\n",
    "                header=None)\n",
    "df.head()"
   ]
  },
  {
   "cell_type": "markdown",
   "id": "d8fa06f3",
   "metadata": {},
   "source": [
    "Create X array of 30 features and y vector of labels M('malignant') and B('benign')"
   ]
  },
  {
   "cell_type": "code",
   "execution_count": 4,
   "id": "d5a2f5ad",
   "metadata": {},
   "outputs": [
    {
     "data": {
      "text/plain": [
       "array(['B', 'M'], dtype=object)"
      ]
     },
     "execution_count": 4,
     "metadata": {},
     "output_type": "execute_result"
    }
   ],
   "source": [
    "from sklearn.preprocessing import LabelEncoder\n",
    "X = df.loc[:,2:].values\n",
    "y = df.loc[:,1].values\n",
    "\n",
    "# Encode labels\n",
    "LE = LabelEncoder()\n",
    "y = LE.fit_transform(y)\n",
    "\n",
    "# check labels\n",
    "LE.classes_\n"
   ]
  },
  {
   "cell_type": "code",
   "execution_count": 5,
   "id": "436a2617",
   "metadata": {},
   "outputs": [
    {
     "data": {
      "text/plain": [
       "array([1, 0])"
      ]
     },
     "execution_count": 5,
     "metadata": {},
     "output_type": "execute_result"
    }
   ],
   "source": [
    "# check encoding\n",
    "LE.transform(['M', 'B'])"
   ]
  },
  {
   "cell_type": "code",
   "execution_count": 6,
   "id": "84332cb2",
   "metadata": {},
   "outputs": [],
   "source": [
    "from sklearn.model_selection import train_test_split\n",
    "X_tr, X_ts, y_tr, y_ts = train_test_split(X, y,\n",
    "                                          stratify=y,\n",
    "                                          random_state=1,\n",
    "                                          test_size=0.2)\n"
   ]
  },
  {
   "cell_type": "markdown",
   "id": "d34772b3",
   "metadata": {},
   "source": [
    " One can use Pipeline for common preparation and training routine.\n",
    " \n",
    " It contains scaler, pca, model."
   ]
  },
  {
   "cell_type": "code",
   "execution_count": 7,
   "id": "164bb1df",
   "metadata": {},
   "outputs": [
    {
     "name": "stdout",
     "output_type": "stream",
     "text": [
      "Accuracy score : 0.956140350877193\n"
     ]
    }
   ],
   "source": [
    "from sklearn.preprocessing import StandardScaler\n",
    "from sklearn.decomposition import PCA\n",
    "from sklearn.pipeline import make_pipeline\n",
    "from sklearn.linear_model import LogisticRegression\n",
    "\n",
    "# create pipeline\n",
    "pipe_lr = make_pipeline( StandardScaler(),\n",
    "                         PCA(n_components=2),\n",
    "                         LogisticRegression(random_state=1, solver='lbfgs')\n",
    "                            )\n",
    "# train model\n",
    "pipe_lr.fit(X_tr, y_tr)\n",
    "\n",
    "# predict\n",
    "pipe_lr.predict(X_ts)\n",
    "\n",
    "# test accuracy score\n",
    "print(f'Accuracy score : {pipe_lr.score(X_ts, y_ts)}')\n"
   ]
  },
  {
   "cell_type": "markdown",
   "id": "674f32b0",
   "metadata": {},
   "source": [
    "## Cross-validation"
   ]
  },
  {
   "cell_type": "markdown",
   "id": "93134879",
   "metadata": {},
   "source": [
    "- Holdout cross-validation.\n",
    "\n",
    "    Split data set into 3 parts: train, test,validate\n",
    "    \n",
    "    \n",
    "- k-fold  cross-validation.\n",
    "\n",
    "    Split data set into k blocks, where k-1 blocks used for training and 1 for test. Usually k=10 is a good choice\n",
    "    \n",
    "- leave-one-out cross-validation. \n",
    "     k blocks = n of samples, only 1 sample used for testing, good for small data sets\n",
    "     \n",
    "- Stratified K-fold cross validation. \n",
    "    ratio of classes are preserved in each block"
   ]
  },
  {
   "cell_type": "code",
   "execution_count": 8,
   "id": "252bdb15",
   "metadata": {},
   "outputs": [
    {
     "name": "stdout",
     "output_type": "stream",
     "text": [
      "Block: 1, Labels distribution[256 153], Accuracy: 0.935\n",
      "Block: 2, Labels distribution[256 153], Accuracy: 0.935\n",
      "Block: 3, Labels distribution[256 153], Accuracy: 0.957\n",
      "Block: 4, Labels distribution[256 153], Accuracy: 0.957\n",
      "Block: 5, Labels distribution[256 153], Accuracy: 0.935\n",
      "Block: 6, Labels distribution[257 153], Accuracy: 0.956\n",
      "Block: 7, Labels distribution[257 153], Accuracy: 0.978\n",
      "Block: 8, Labels distribution[257 153], Accuracy: 0.933\n",
      "Block: 9, Labels distribution[257 153], Accuracy: 0.956\n",
      "Block: 10, Labels distribution[257 153], Accuracy: 0.956\n",
      "Overal accuracy:0.950 +/- 0.014\n"
     ]
    }
   ],
   "source": [
    "import numpy as np\n",
    "from sklearn.model_selection import StratifiedKFold\n",
    "\n",
    "kfold = StratifiedKFold(n_splits=10).split(X_tr, y_tr)\n",
    "scores = []\n",
    "for k,(tr, ts) in enumerate(kfold):\n",
    "    pipe_lr.fit(X_tr[tr], y_tr[tr])\n",
    "    score = pipe_lr.score(X_tr[ts], y_tr[ts])\n",
    "    scores.append(score)\n",
    "    print(f'Block: {k+1}, Labels distribution{np.bincount(y_tr[tr])}, Accuracy: {score:.3f}')\n",
    "    \n",
    "    \n",
    "print(f'Overal accuracy:{np.mean(scores):.3f} +/- {np.std(scores):.3f}')    "
   ]
  },
  {
   "cell_type": "markdown",
   "id": "a3217399",
   "metadata": {},
   "source": [
    "There's a shorthand in sklearn for cross-validation assessment. We obtain the same result."
   ]
  },
  {
   "cell_type": "code",
   "execution_count": 10,
   "id": "1ad075ca",
   "metadata": {},
   "outputs": [
    {
     "name": "stdout",
     "output_type": "stream",
     "text": [
      "Overal accuracy:0.950 +/- 0.014\n"
     ]
    }
   ],
   "source": [
    "from sklearn.model_selection import cross_val_score\n",
    "scores =cross_val_score(estimator=pipe_lr,\n",
    "                       X=X_tr,\n",
    "                       y = y_tr,\n",
    "                       cv=10,\n",
    "                       n_jobs=2) #parallel if  -1 uses all cores, 1 only one\n",
    "\n",
    "print(f'Overal accuracy:{np.mean(scores):.3f} +/- {np.std(scores):.3f}')"
   ]
  },
  {
   "cell_type": "markdown",
   "id": "cb6635ab",
   "metadata": {},
   "source": [
    "# Learning curves"
   ]
  },
  {
   "cell_type": "code",
   "execution_count": 22,
   "id": "37bc8633",
   "metadata": {},
   "outputs": [],
   "source": [
    "import matplotlib.pyplot as plt\n",
    "from sklearn.model_selection import learning_curve\n",
    "from sklearn.preprocessing import StandardScaler\n",
    "from sklearn.decomposition import PCA\n",
    "from sklearn.pipeline import make_pipeline\n",
    "from sklearn.linear_model import LogisticRegression\n",
    "\n",
    "\n",
    "pipe = make_pipeline(StandardScaler(),\n",
    "                    LogisticRegression(penalty='l2',\n",
    "                                      random_state=1,\n",
    "                                      solver='lbfgs',\n",
    "                                      max_iter=100000))\n",
    "# training size, training and testingscore \n",
    "train_sz, train_sc, test_sc = learning_curve(estimator=pipe,\n",
    "                                            X=X_tr,\n",
    "                                            y=y_tr,\n",
    "                                            train_sizes=np.linspace(\n",
    "                                            0.1,1.0,10),\n",
    "                                            cv=10, n_jobs=2)\n",
    "train_mean = np.mean(train_sc, axis=1)\n",
    "train_sd = np.std(train_sc, axis=1)\n",
    "\n",
    "test_mean = np.mean(test_sc,axis=1)\n",
    "test_sd = np.std(test_sc, axis=1)"
   ]
  },
  {
   "cell_type": "code",
   "execution_count": 26,
   "id": "34ffd29d",
   "metadata": {},
   "outputs": [
    {
     "data": {
      "image/png": "[encoded data removed]",
      "text/plain": [
       "<Figure size 432x288 with 1 Axes>"
      ]
     },
     "metadata": {
      "needs_background": "light"
     },
     "output_type": "display_data"
    }
   ],
   "source": [
    "plt.plot(train_sz, train_mean, color='blue',\n",
    "        marker='o', label='Training accuracy curve ')\n",
    "\n",
    "plt.fill_between(train_sz, train_mean +train_sd, train_mean -train_sd,\n",
    "                alpha=0.15, color='blue')\n",
    "\n",
    "plt.plot(train_sz, test_mean, color='green',\n",
    "        marker='s', label='Testing accuracy curve', linestyle='--')\n",
    "plt.fill_between(train_sz, test_mean +test_sd, test_mean -test_sd,\n",
    "                alpha=0.15,  color='green')\n",
    "plt.grid()\n",
    "plt.xlabel(\"n training samples\")\n",
    "plt.ylabel(\"Accuracy\")\n",
    "plt.legend()\n",
    "plt.show()"
   ]
  },
  {
   "cell_type": "markdown",
   "id": "819cbab4",
   "metadata": {},
   "source": [
    "# Check up curves"
   ]
  },
  {
   "cell_type": "code",
   "execution_count": 27,
   "id": "04b14009",
   "metadata": {},
   "outputs": [],
   "source": [
    "from sklearn.model_selection import validation_curve\n",
    "param_range = [0.001, 0.01, 0.1, 1.0, 10.0, 100.0]\n",
    "\n",
    "train_sc, test_sc = validation_curve(\n",
    "                                        estimator=pipe,\n",
    "                                        X= X_tr,\n",
    "                                        y = y_tr,\n",
    "                                        param_name='logisticregression__C',\n",
    "                                        param_range=param_range,\n",
    "                                        cv=10\n",
    "                                        )\n",
    "\n",
    "tr_mean = np.mean(train_sc, axis=1)\n",
    "tr_std = np.std(train_sc, axis=1)\n",
    "\n",
    "ts_mean = np.mean(test_sc, axis=1)\n",
    "ts_std = np.std(test_sc, axis=1)"
   ]
  },
  {
   "cell_type": "code",
   "execution_count": 32,
   "id": "a1df7b26",
   "metadata": {
    "scrolled": true
   },
   "outputs": [
    {
     "data": {
      "image/png": "[encoded data removed]",
      "text/plain": [
       "<Figure size 432x288 with 1 Axes>"
      ]
     },
     "metadata": {
      "needs_background": "light"
     },
     "output_type": "display_data"
    }
   ],
   "source": [
    "plt.plot(param_range, tr_mean,color='blue', marker ='o', \n",
    "        label='Training accuracy curve ')\n",
    "plt.fill_between(param_range, tr_mean+tr_std,tr_mean-tr_std,color='blue',\n",
    "                alpha=0.15)\n",
    "plt.plot(param_range, ts_mean, color='green', marker='s' ,\n",
    "        label='Testing accuracy curve ')\n",
    "plt.fill_between(param_range, ts_mean+ts_std,ts_mean-ts_std,color='green',\n",
    "                alpha=0.15)\n",
    "\n",
    "plt.grid()\n",
    "plt.xscale('log')\n",
    "plt.xlabel(\"cost parameter C\")\n",
    "plt.ylabel(\"Accuracy\")\n",
    "plt.legend()\n",
    "plt.show()"
   ]
  },
  {
   "cell_type": "markdown",
   "id": "1be317c0",
   "metadata": {},
   "source": [
    "# Grid  Search for Hyperparameters"
   ]
  },
  {
   "cell_type": "code",
   "execution_count": 42,
   "id": "0b2940a0",
   "metadata": {},
   "outputs": [
    {
     "name": "stdout",
     "output_type": "stream",
     "text": [
      "0.9846859903381642\n"
     ]
    }
   ],
   "source": [
    "from sklearn.model_selection import GridSearchCV\n",
    "from sklearn.svm import SVC\n",
    "\n",
    "pipe_svc = make_pipeline(StandardScaler(),\n",
    "                        SVC(random_state=1))\n",
    "\n",
    "# hyperparameters range\n",
    "param_rg = [0.0001, 0.001, 0.01, 0.1, 1.0, 10.0, 100.0, 1000.0]\n",
    "\n",
    "# grid\n",
    "param_grid = [{'svc__C': param_rg,\n",
    "              'svc__kernel': ['linear']},\n",
    "             {'svc__C': param_rg,\n",
    "              'svc__gamma':param_rg,\n",
    "              'svc__kernel': ['rbf']}\n",
    "             \n",
    "             ]\n",
    "# Grid Search\n",
    "gs = GridSearchCV(estimator=pipe_svc,\n",
    "                 param_grid=param_grid,\n",
    "                 scoring='accuracy',\n",
    "                 cv=10,\n",
    "                 refit=True, # autofit to X_tr\n",
    "                 n_jobs=-1)\n",
    "gs.fit(X_tr, y_tr)# not necessary if refit = TRue(autofit to X_tr) \n",
    "print(gs.best_score_)\n",
    "m = gs.best_estimator_\n"
   ]
  },
  {
   "cell_type": "code",
   "execution_count": 43,
   "id": "f7ea4433",
   "metadata": {},
   "outputs": [
    {
     "name": "stdout",
     "output_type": "stream",
     "text": [
      "Pipeline(steps=[('standardscaler', StandardScaler()),\n",
      "                ('svc', SVC(C=100.0, gamma=0.001, random_state=1))])\n",
      "{'svc__C': 100.0, 'svc__gamma': 0.001, 'svc__kernel': 'rbf'}\n"
     ]
    }
   ],
   "source": [
    "print(gs.best_estimator_)\n",
    "print(gs.best_params_)"
   ]
  },
  {
   "cell_type": "code",
   "execution_count": 44,
   "id": "5e553153",
   "metadata": {},
   "outputs": [
    {
     "name": "stdout",
     "output_type": "stream",
     "text": [
      "0.9670329670329669\n"
     ]
    }
   ],
   "source": [
    "from sklearn.model_selection import RandomizedSearchCV\n",
    "from sklearn.svm import SVC\n",
    "\n",
    "pipe_svc2 = make_pipeline(StandardScaler(),\n",
    "                        SVC(random_state=1))\n",
    "\n",
    "# hyperparameters range\n",
    "param_rg2 = [0.0001, 0.001, 0.01, 0.1, 1.0, 10.0, 100.0, 1000.0]\n",
    "\n",
    "# grid\n",
    "param_grid2 = [{'svc__C': param_rg,\n",
    "              'svc__kernel': ['linear']},\n",
    "             {'svc__C': param_rg,\n",
    "              'svc__gamma':param_rg,\n",
    "              'svc__kernel': ['rbf']}\n",
    "             \n",
    "             ]\n",
    "# Randomized Search\n",
    "rs = RandomizedSearchCV(estimator=pipe_svc,\n",
    "                param_distributions=param_grid ,\n",
    "                 scoring='accuracy',\n",
    "                 n_iter=10,\n",
    "                 refit=True, # autofit to X_tr\n",
    "                 n_jobs=-1)\n",
    "rs.fit(X_tr, y_tr)# not necessary if refit = TRue(autofit to X_tr) \n",
    "print(rs.best_score_)\n"
   ]
  },
  {
   "cell_type": "code",
   "execution_count": 46,
   "id": "44f397cf",
   "metadata": {
    "scrolled": false
   },
   "outputs": [
    {
     "name": "stdout",
     "output_type": "stream",
     "text": [
      "Pipeline(steps=[('standardscaler', StandardScaler()),\n",
      "                ('svc', SVC(C=100.0, gamma=0.0001, random_state=1))])\n",
      "{'svc__kernel': 'rbf', 'svc__gamma': 0.0001, 'svc__C': 100.0}\n"
     ]
    }
   ],
   "source": [
    "print(rs.best_estimator_)\n",
    "print(rs.best_params_)"
   ]
  },
  {
   "cell_type": "markdown",
   "id": "5c6e5452",
   "metadata": {},
   "source": [
    "# Nested cross-validation"
   ]
  },
  {
   "cell_type": "code",
   "execution_count": 47,
   "id": "73188667",
   "metadata": {},
   "outputs": [
    {
     "name": "stdout",
     "output_type": "stream",
     "text": [
      "Mean accuracy:  0.9736263736263737\n"
     ]
    }
   ],
   "source": [
    "# inner loop\n",
    "ns = GridSearchCV(estimator=pipe_svc,\n",
    "                 param_grid=param_grid,\n",
    "                 scoring='accuracy',\n",
    "                 cv=2)\n",
    "# outer loop\n",
    "scores = cross_val_score(ns, X_tr, y_tr, scoring='accuracy', cv =5)\n",
    "\n",
    "print('Mean accuracy: ', np.mean(scores) )"
   ]
  },
  {
   "cell_type": "markdown",
   "id": "6017f9b3",
   "metadata": {},
   "source": [
    "Compare with another classifier, e.g. tree"
   ]
  },
  {
   "cell_type": "code",
   "execution_count": 50,
   "id": "f6428c68",
   "metadata": {},
   "outputs": [
    {
     "name": "stdout",
     "output_type": "stream",
     "text": [
      "Mean accuracy 0.9340659340659341\n"
     ]
    }
   ],
   "source": [
    "from sklearn.tree import DecisionTreeClassifier\n",
    "\n",
    "tree_gs = GridSearchCV(estimator=DecisionTreeClassifier(random_state=0),\n",
    "                      param_grid=[{'max_depth':[1,2,3,4,5,6,7,None]}],\n",
    "                      scoring='accuracy',\n",
    "                      cv=2\n",
    "                      \n",
    "                      )\n",
    "\n",
    "tree_scores = cross_val_score(tree_gs, X_tr, y_tr, scoring='accuracy', cv=5)\n",
    "\n",
    "print(f'Mean accuracy {np.mean(tree_scores)}')"
   ]
  },
  {
   "cell_type": "markdown",
   "id": "16460a3e",
   "metadata": {},
   "source": [
    "For this set up SVM performes better"
   ]
  },
  {
   "cell_type": "markdown",
   "id": "068d2e67",
   "metadata": {},
   "source": [
    "# Confusion Matrix"
   ]
  },
  {
   "cell_type": "code",
   "execution_count": 53,
   "id": "d6d33c27",
   "metadata": {},
   "outputs": [
    {
     "name": "stdout",
     "output_type": "stream",
     "text": [
      "[[71  1]\n",
      " [ 2 40]]\n"
     ]
    }
   ],
   "source": [
    "from sklearn.metrics import confusion_matrix\n",
    "\n",
    "pipe_svc2.fit(X_tr, y_tr)\n",
    "\n",
    "y_pred = pipe_svc2.predict(X_ts)\n",
    "conf_mat = confusion_matrix(y_true=y_ts, y_pred=y_pred)\n",
    "\n",
    "print(conf_mat)"
   ]
  },
  {
   "cell_type": "code",
   "execution_count": 57,
   "id": "f6fc557b",
   "metadata": {},
   "outputs": [
    {
     "data": {
      "image/png": "[encoded data removed]",
      "text/plain": [
       "<Figure size 216x216 with 1 Axes>"
      ]
     },
     "metadata": {
      "needs_background": "light"
     },
     "output_type": "display_data"
    }
   ],
   "source": [
    "# illustrate confusion matrix\n",
    "fig, ax = plt.subplots(figsize=(3,3))\n",
    "ax.matshow(conf_mat, cmap = plt.cm.Blues, alpha=0.3)\n",
    "for i in range(conf_mat.shape[0]):\n",
    "    for j in range(conf_mat.shape[1]):\n",
    "        ax.text(x=j, #col\n",
    "                y=i, # row\n",
    "                s=conf_mat[i, j],#entry of matrix\n",
    "                va='center', ha='center')\n",
    "ax.xaxis.set_ticks_position('bottom')\n",
    "\n",
    "plt.xlabel('Predicted class')\n",
    "plt.ylabel('True class')\n",
    "\n",
    "plt.tight_layout()\n",
    "plt.show()"
   ]
  },
  {
   "cell_type": "code",
   "execution_count": 60,
   "id": "16bb45b2",
   "metadata": {},
   "outputs": [
    {
     "name": "stdout",
     "output_type": "stream",
     "text": [
      "Precision is 0.975609756097561\n",
      "Recall is 0.9523809523809523\n",
      "F1 is 0.963855421686747\n"
     ]
    }
   ],
   "source": [
    "from sklearn.metrics import precision_score\n",
    "from sklearn.metrics import recall_score, f1_score\n",
    "\n",
    "print(f'Precision is {precision_score(y_true=y_ts, y_pred=y_pred)}')\n",
    "print(f'Recall is {recall_score(y_true=y_ts, y_pred=y_pred)}')\n",
    "print(f'F1 is {f1_score(y_true=y_ts, y_pred=y_pred)}')"
   ]
  },
  {
   "cell_type": "markdown",
   "id": "b40e1056",
   "metadata": {},
   "source": [
    "one can change scoring strategy with make_scorer and labeling of positive class, by default positive is 1"
   ]
  },
  {
   "cell_type": "code",
   "execution_count": 61,
   "id": "d026b642",
   "metadata": {},
   "outputs": [
    {
     "name": "stdout",
     "output_type": "stream",
     "text": [
      "0.9880771478667446\n"
     ]
    }
   ],
   "source": [
    "from sklearn.model_selection import GridSearchCV\n",
    "from sklearn.svm import SVC\n",
    "from sklearn.metrics import make_scorer, f1_score\n",
    "\n",
    "pipe_svc = make_pipeline(StandardScaler(),\n",
    "                        SVC(random_state=1))\n",
    "\n",
    "# hyperparameters range\n",
    "param_rg = [0.0001, 0.001, 0.01, 0.1, 1.0, 10.0, 100.0, 1000.0]\n",
    "\n",
    "# grid\n",
    "param_grid = [{'svc__C': param_rg,\n",
    "              'svc__kernel': ['linear']},\n",
    "             {'svc__C': param_rg,\n",
    "              'svc__gamma':param_rg,\n",
    "              'svc__kernel': ['rbf']}\n",
    "             \n",
    "             ]\n",
    "scorer=make_scorer(f1_score, pos_label=0) # change pos label\n",
    "# Grid Search\n",
    "gs = GridSearchCV(estimator=pipe_svc,\n",
    "                 param_grid=param_grid,\n",
    "                 scoring=scorer,\n",
    "                 cv=10,\n",
    "                 refit=True, # autofit to X_tr\n",
    "                 n_jobs=-1)\n",
    "gs.fit(X_tr, y_tr)# not necessary if refit = TRue(autofit to X_tr) \n",
    "print(gs.best_score_)"
   ]
  },
  {
   "cell_type": "code",
   "execution_count": 62,
   "id": "380f010c",
   "metadata": {},
   "outputs": [
    {
     "name": "stdout",
     "output_type": "stream",
     "text": [
      "{'svc__C': 100.0, 'svc__gamma': 0.001, 'svc__kernel': 'rbf'}\n"
     ]
    }
   ],
   "source": [
    "print(gs.best_params_)"
   ]
  },
  {
   "cell_type": "markdown",
   "id": "d36ebe2d",
   "metadata": {},
   "source": [
    "# Plotting ROC curve"
   ]
  },
  {
   "cell_type": "code",
   "execution_count": 63,
   "id": "0e8304b6",
   "metadata": {},
   "outputs": [
    {
     "data": {
      "image/png": "[encoded data removed]",
      "text/plain": [
       "<Figure size 504x360 with 1 Axes>"
      ]
     },
     "metadata": {
      "needs_background": "light"
     },
     "output_type": "display_data"
    }
   ],
   "source": [
    "from sklearn.metrics import roc_curve, auc\n",
    "from numpy import interp\n",
    "\n",
    "\n",
    "pipe_lr = make_pipeline(StandardScaler(),\n",
    "                        PCA(n_components=2),\n",
    "                        LogisticRegression(penalty='l2', \n",
    "                                           random_state=1,\n",
    "                                           solver='lbfgs',\n",
    "                                           C=100.0))\n",
    "\n",
    "X_train2 = X_tr[:, [4, 14]]\n",
    "    \n",
    "\n",
    "cv = list(StratifiedKFold(n_splits=3).split(X_tr, y_tr))\n",
    "\n",
    "fig = plt.figure(figsize=(7, 5))\n",
    "\n",
    "mean_tpr = 0.0\n",
    "mean_fpr = np.linspace(0, 1, 100)\n",
    "all_tpr = []\n",
    "\n",
    "for i, (train, test) in enumerate(cv):\n",
    "    probas = pipe_lr.fit(X_train2[train],\n",
    "                         y_tr[train]).predict_proba(X_train2[test])\n",
    "\n",
    "    fpr, tpr, thresholds = roc_curve(y_tr[test],\n",
    "                                     probas[:, 1],\n",
    "                                     pos_label=1)\n",
    "    mean_tpr += interp(mean_fpr, fpr, tpr)\n",
    "    mean_tpr[0] = 0.0\n",
    "    roc_auc = auc(fpr, tpr)\n",
    "    plt.plot(fpr,\n",
    "             tpr,\n",
    "             label=f'ROC fold {i+1} (area = {roc_auc:.2f})')\n",
    "\n",
    "plt.plot([0, 1],\n",
    "         [0, 1],\n",
    "         linestyle='--',\n",
    "         color=(0.6, 0.6, 0.6),\n",
    "         label='Random guessing (area = 0.5)')\n",
    "\n",
    "mean_tpr /= len(cv)\n",
    "mean_tpr[-1] = 1.0\n",
    "mean_auc = auc(mean_fpr, mean_tpr)\n",
    "plt.plot(mean_fpr, mean_tpr, 'k--',\n",
    "         label=f'Mean ROC (area = {mean_auc:.2f})', lw=2)\n",
    "plt.plot([0, 0, 1],\n",
    "         [0, 1, 1],\n",
    "         linestyle=':',\n",
    "         color='black',\n",
    "         label='Perfect performance (area = 1.0)')\n",
    "\n",
    "plt.xlim([-0.05, 1.05])\n",
    "plt.ylim([-0.05, 1.05])\n",
    "plt.xlabel('False positive rate')\n",
    "plt.ylabel('True positive rate')\n",
    "plt.legend(loc='lower right')\n",
    "\n",
    "plt.tight_layout()\n",
    "plt.show()"
   ]
  },
  {
   "cell_type": "markdown",
   "id": "5b93a0af",
   "metadata": {},
   "source": [
    "# Disbalanced classes\n"
   ]
  },
  {
   "cell_type": "code",
   "execution_count": null,
   "id": "591c7c49",
   "metadata": {},
   "outputs": [],
   "source": [
    "pre_scorer = make_scorer(score_func=precision_score, \n",
    "                         pos_label=1, \n",
    "                         greater_is_better=True, \n",
    "                         average='micro' #or 'macro'\n",
    "                        ) "
   ]
  }
 ],
 "metadata": {
  "kernelspec": {
   "display_name": "Python 3 (ipykernel)",
   "language": "python",
   "name": "python3"
  },
  "language_info": {
   "codemirror_mode": {
    "name": "ipython",
    "version": 3
   },
   "file_extension": ".py",
   "mimetype": "text/x-python",
   "name": "python",
   "nbconvert_exporter": "python",
   "pygments_lexer": "ipython3",
   "version": "3.10.4"
  }
 },
 "nbformat": 4,
 "nbformat_minor": 5
}
