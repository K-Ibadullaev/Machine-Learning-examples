{
 "cells": [
  {
   "cell_type": "code",
   "execution_count": 2,
   "id": "d1d8ac98",
   "metadata": {},
   "outputs": [],
   "source": [
    "import numpy as np\n",
    "\n",
    "class Perceptron(object):\n",
    "    \"\"\"\n",
    "    params:\n",
    "    \n",
    "    eta-learning rate\n",
    "    n_iter:int iterations through data set\n",
    "    random_state : int initial state for the generator of random numbers\n",
    "    \n",
    "    attributes:\n",
    "    \n",
    "    w_ - vector of weights\n",
    "    \n",
    "    errors_ -vector of errors /incorrect classifications\n",
    "    \n",
    "    \n",
    "    \"\"\"\n",
    "    \n",
    "    def __init__(self, eta=0.01, n_iter=50, random_state =1):\n",
    "        self.eta = eta\n",
    "        self.n_iter = n_iter\n",
    "        self.random_state = random_state\n",
    "        \n",
    "            \n",
    "    def fit(self, X, y):\n",
    "        \"fits training data\"\n",
    "        \n",
    "        \"\"\"\n",
    "        X - matrix of features and training samples shape =[n_examples, n_features]\n",
    "        \n",
    "        y - column vector of target values shape =[n_examples,1]\n",
    "        \n",
    "        returns self: object\n",
    "        \n",
    "        \"\"\"\n",
    "        \n",
    "        rgen = np.random.RandomState(self.random_state)\n",
    "        self.w_ = rgen.normal(loc=0.0, scale=0.01, size = 1 +X.shape[1])\n",
    "        self.errors_ = []\n",
    "        \n",
    "        for _ in range(self.n_iter):\n",
    "            errors = 0\n",
    "            for xi, target in zip(X,y):\n",
    "                update = self.eta * (target - self.predict(xi))\n",
    "                self.w_[1:] += update * xi\n",
    "                self.w_[0] += update\n",
    "                errors += int( update != 0.0)\n",
    "            self.errors_.append(errors)    \n",
    "        \n",
    "        return self\n",
    "    \n",
    "    \n",
    "    def net_input(self, X):\n",
    "        \"Compute net input\"\n",
    "        return X @ self.w[1:] + self.w_[0]\n",
    "    \n",
    "    def predict(self, X):\n",
    "        \"return a label after each iteration\"\n",
    "        return np.where(self.net_input(X) >= 0.0, 1, -1)"
   ]
  },
  {
   "cell_type": "markdown",
   "id": "b2e376e0",
   "metadata": {},
   "source": [
    "Download the data set\n"
   ]
  },
  {
   "cell_type": "code",
   "execution_count": null,
   "id": "38108ee9",
   "metadata": {},
   "outputs": [],
   "source": [
    "import os \n",
    "import pandas as pd\n",
    "s = os"
   ]
  }
 ],
 "metadata": {
  "kernelspec": {
   "display_name": "Python 3 (ipykernel)",
   "language": "python",
   "name": "python3"
  },
  "language_info": {
   "codemirror_mode": {
    "name": "ipython",
    "version": 3
   },
   "file_extension": ".py",
   "mimetype": "text/x-python",
   "name": "python",
   "nbconvert_exporter": "python",
   "pygments_lexer": "ipython3",
   "version": "3.10.4"
  }
 },
 "nbformat": 4,
 "nbformat_minor": 5
}
