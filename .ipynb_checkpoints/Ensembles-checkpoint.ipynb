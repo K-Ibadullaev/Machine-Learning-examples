{
 "cells": [
  {
   "cell_type": "markdown",
   "id": "66a7ffee",
   "metadata": {},
   "source": [
    " Range of error for Majority Voting"
   ]
  },
  {
   "cell_type": "code",
   "execution_count": 3,
   "id": "861b492e",
   "metadata": {},
   "outputs": [],
   "source": [
    "from scipy.special import comb\n",
    "import math\n",
    "\n",
    "def ensemble_error(n_clf, err):\n",
    "    k_start = int(math.ceil(n_clf/2.))\n",
    "    probs = [comb(n_clf, k) * # binomial coeff\n",
    "            err**k*\n",
    "            (1-err)**(n_clf-k) \n",
    "             for k in range(k_start, n_clf +1)]\n",
    "    return sum(probs)"
   ]
  },
  {
   "cell_type": "code",
   "execution_count": 5,
   "id": "dafd64ba",
   "metadata": {},
   "outputs": [
    {
     "data": {
      "text/plain": [
       "0.03432750701904297"
      ]
     },
     "execution_count": 5,
     "metadata": {},
     "output_type": "execute_result"
    }
   ],
   "source": [
    "ensemble_error(n_clf=11, err=0.25)"
   ]
  },
  {
   "cell_type": "markdown",
   "id": "16e0a043",
   "metadata": {},
   "source": [
    "Visualize errors for ensemble and individual classifiers"
   ]
  },
  {
   "cell_type": "code",
   "execution_count": 9,
   "id": "00a67122",
   "metadata": {},
   "outputs": [
    {
     "data": {
      "image/png": "[encoded data removed]",
      "text/plain": [
       "<Figure size 432x288 with 1 Axes>"
      ]
     },
     "metadata": {
      "needs_background": "light"
     },
     "output_type": "display_data"
    }
   ],
   "source": [
    "import numpy as np\n",
    "import matplotlib.pyplot as plt\n",
    "\n",
    "err_range = np.arange(0.0, 1.01, 0.01)\n",
    "ens_errs = [ensemble_error(n_clf=11, err=error) for error in \n",
    "           err_range]\n",
    "\n",
    "plt.plot(err_range, ens_errs, \n",
    "        label ='Ensemble Error',linewidth=2)\n",
    "plt.plot(err_range, err_range, label='Base Error', linewidth=2, linestyle='--')\n",
    "plt.ylabel(\"Error\")\n",
    "plt.xlabel(\"Base\")\n",
    "plt.legend()\n",
    "plt.show()"
   ]
  },
  {
   "cell_type": "code",
   "execution_count": 10,
   "id": "75c922ce",
   "metadata": {},
   "outputs": [
    {
     "data": {
      "text/plain": [
       "1"
      ]
     },
     "execution_count": 10,
     "metadata": {},
     "output_type": "execute_result"
    }
   ],
   "source": [
    "# weighted classifiers\n",
    "import numpy as np\n",
    "np.argmax(np.bincount([0, 0, 1], \n",
    "                     weights=[0.2, 0.2, 0.6]))"
   ]
  },
  {
   "cell_type": "code",
   "execution_count": 13,
   "id": "5037988a",
   "metadata": {},
   "outputs": [
    {
     "name": "stdout",
     "output_type": "stream",
     "text": [
      "[0.58 0.42]\n",
      "0\n"
     ]
    }
   ],
   "source": [
    "ex = np.array([[0.9, 0.1],\n",
    "             [0.8,0.2],\n",
    "             [0.4, 0.6]])\n",
    "\n",
    "p = np.average(ex, axis=0, weights=[0.2,0.2,0.6])\n",
    "print(p)\n",
    "print(np.argmax(p)) # label"
   ]
  }
 ],
 "metadata": {
  "kernelspec": {
   "display_name": "Python 3 (ipykernel)",
   "language": "python",
   "name": "python3"
  },
  "language_info": {
   "codemirror_mode": {
    "name": "ipython",
    "version": 3
   },
   "file_extension": ".py",
   "mimetype": "text/x-python",
   "name": "python",
   "nbconvert_exporter": "python",
   "pygments_lexer": "ipython3",
   "version": "3.10.4"
  }
 },
 "nbformat": 4,
 "nbformat_minor": 5
}
